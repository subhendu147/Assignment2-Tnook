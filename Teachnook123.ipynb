{
  "nbformat": 4,
  "nbformat_minor": 0,
  "metadata": {
    "colab": {
      "provenance": []
    },
    "kernelspec": {
      "name": "python3",
      "display_name": "Python 3"
    },
    "language_info": {
      "name": "python"
    }
  },
  "cells": [
    {
      "cell_type": "code",
      "execution_count": null,
      "metadata": {
        "colab": {
          "base_uri": "https://localhost:8080/"
        },
        "id": "ehK_cvKI7erE",
        "outputId": "e180ea33-b1db-4612-f3eb-1efc405a600c"
      },
      "outputs": [
        {
          "output_type": "stream",
          "name": "stdout",
          "text": [
            "Hi,Subhv!\n"
          ]
        }
      ],
      "source": [
        "print(\"Hi,Subhv!\")"
      ]
    },
    {
      "cell_type": "code",
      "source": [
        "if 5>2:\n",
        "  print(\"Five is greater than two!\")"
      ],
      "metadata": {
        "colab": {
          "base_uri": "https://localhost:8080/"
        },
        "id": "mAlTsmyH7rwn",
        "outputId": "90cb1baf-4fde-41fe-ea78-6885a75be138"
      },
      "execution_count": null,
      "outputs": [
        {
          "output_type": "stream",
          "name": "stdout",
          "text": [
            "Five is greater than two!\n"
          ]
        }
      ]
    },
    {
      "cell_type": "code",
      "source": [
        "print(\"Good evening all !\")"
      ],
      "metadata": {
        "colab": {
          "base_uri": "https://localhost:8080/"
        },
        "id": "6sDqDOEZ8SjG",
        "outputId": "bc2f9f3e-b929-4ff2-ed46-313e0b74ebb2"
      },
      "execution_count": null,
      "outputs": [
        {
          "output_type": "stream",
          "name": "stdout",
          "text": [
            "Good evening all !\n"
          ]
        }
      ]
    },
    {
      "cell_type": "code",
      "source": [
        "a= \"Hello Everyone\"\n",
        "print(a)"
      ],
      "metadata": {
        "colab": {
          "base_uri": "https://localhost:8080/"
        },
        "id": "Xq2e6Cg48qms",
        "outputId": "034272a9-dc1c-41d3-bd54-757579b80df6"
      },
      "execution_count": null,
      "outputs": [
        {
          "output_type": "stream",
          "name": "stdout",
          "text": [
            "Hello Everyone\n"
          ]
        }
      ]
    },
    {
      "cell_type": "code",
      "source": [
        "print(type(a))"
      ],
      "metadata": {
        "colab": {
          "base_uri": "https://localhost:8080/"
        },
        "id": "tYDysxsg84Q9",
        "outputId": "8d6b71ed-c00d-44d7-fb78-f61ce192d99a"
      },
      "execution_count": null,
      "outputs": [
        {
          "output_type": "stream",
          "name": "stdout",
          "text": [
            "<class 'str'>\n"
          ]
        }
      ]
    },
    {
      "cell_type": "code",
      "source": [
        "_add_=3387\n",
        "_add1_=3476"
      ],
      "metadata": {
        "id": "iEzGxSi58-tO"
      },
      "execution_count": null,
      "outputs": []
    },
    {
      "cell_type": "code",
      "source": [
        "sum=_add_+_add1_\n",
        "print(sum)"
      ],
      "metadata": {
        "colab": {
          "base_uri": "https://localhost:8080/"
        },
        "id": "UN5-MAUc9ePi",
        "outputId": "b49827d8-a9b7-4ee8-cf76-046440ec6967"
      },
      "execution_count": null,
      "outputs": [
        {
          "output_type": "stream",
          "name": "stdout",
          "text": [
            "6863\n"
          ]
        }
      ]
    },
    {
      "cell_type": "code",
      "source": [
        "print(10>9)"
      ],
      "metadata": {
        "colab": {
          "base_uri": "https://localhost:8080/"
        },
        "id": "FrtCGSYc9ovk",
        "outputId": "29260d86-af65-49a0-ed72-c739700a634b"
      },
      "execution_count": null,
      "outputs": [
        {
          "output_type": "stream",
          "name": "stdout",
          "text": [
            "True\n"
          ]
        }
      ]
    },
    {
      "cell_type": "code",
      "source": [
        "add= False\n",
        "print(add)\n",
        "print(type(add))"
      ],
      "metadata": {
        "colab": {
          "base_uri": "https://localhost:8080/"
        },
        "id": "JBCGk5lI90Q-",
        "outputId": "62a5fac6-09ea-44fe-cc1a-4bc3f44c6ce5"
      },
      "execution_count": null,
      "outputs": [
        {
          "output_type": "stream",
          "name": "stdout",
          "text": [
            "False\n",
            "<class 'bool'>\n"
          ]
        }
      ]
    },
    {
      "cell_type": "code",
      "source": [
        "name=\"Harry\"\n",
        "print(\"Hello\" + name)"
      ],
      "metadata": {
        "colab": {
          "base_uri": "https://localhost:8080/"
        },
        "id": "VP4Q923w-Bof",
        "outputId": "b2f13f8e-73ca-475f-a220-b77b82d4fe15"
      },
      "execution_count": null,
      "outputs": [
        {
          "output_type": "stream",
          "name": "stdout",
          "text": [
            "HelloHarry\n"
          ]
        }
      ]
    },
    {
      "cell_type": "code",
      "source": [
        "print(\"Hello\", name)"
      ],
      "metadata": {
        "colab": {
          "base_uri": "https://localhost:8080/"
        },
        "id": "Xv1kO_zl-QuB",
        "outputId": "f0620acf-a1cf-4c98-cbd0-5b8626c8efea"
      },
      "execution_count": null,
      "outputs": [
        {
          "output_type": "stream",
          "name": "stdout",
          "text": [
            "Hello Harry\n"
          ]
        }
      ]
    },
    {
      "cell_type": "code",
      "source": [
        "mylist1=[366,476.0,True,\"Data\"]\n",
        "print(mylist1[0])"
      ],
      "metadata": {
        "colab": {
          "base_uri": "https://localhost:8080/"
        },
        "id": "IkGUsd22-Vdh",
        "outputId": "b23c4138-5f1a-437a-dd4d-2ea966cf9934"
      },
      "execution_count": null,
      "outputs": [
        {
          "output_type": "stream",
          "name": "stdout",
          "text": [
            "366\n"
          ]
        }
      ]
    },
    {
      "cell_type": "code",
      "source": [
        "mylist=[\"Data\",\"Details\",\"Access\"]\n",
        "print(mylist)"
      ],
      "metadata": {
        "colab": {
          "base_uri": "https://localhost:8080/"
        },
        "id": "ZZ7CQTmm_eqI",
        "outputId": "809d387f-1df0-48a0-e220-bea282c3d504"
      },
      "execution_count": null,
      "outputs": [
        {
          "output_type": "stream",
          "name": "stdout",
          "text": [
            "['Data', 'Details', 'Access']\n"
          ]
        }
      ]
    },
    {
      "cell_type": "code",
      "source": [
        "mylist1[2]=False\n",
        "print(mylist1)"
      ],
      "metadata": {
        "colab": {
          "base_uri": "https://localhost:8080/"
        },
        "id": "9FwFPRXfARra",
        "outputId": "103bb665-631b-4ee9-972b-34d9b1444656"
      },
      "execution_count": null,
      "outputs": [
        {
          "output_type": "stream",
          "name": "stdout",
          "text": [
            "[366, 476.0, False, 'Data']\n"
          ]
        }
      ]
    },
    {
      "cell_type": "code",
      "source": [
        "mylist1.append('data1')\n",
        "print(mylist1)"
      ],
      "metadata": {
        "colab": {
          "base_uri": "https://localhost:8080/"
        },
        "id": "xmRAD-ULAebq",
        "outputId": "5633f216-e4c2-4034-933a-8ba35b7d3265"
      },
      "execution_count": null,
      "outputs": [
        {
          "output_type": "stream",
          "name": "stdout",
          "text": [
            "[366, 476.0, False, 'Data', 'data1']\n"
          ]
        }
      ]
    },
    {
      "cell_type": "code",
      "source": [
        "mylist1.insert(0,300)\n",
        "print(mylist1)"
      ],
      "metadata": {
        "colab": {
          "base_uri": "https://localhost:8080/"
        },
        "id": "4YVxmp38AuyG",
        "outputId": "24b87005-c286-464b-cca6-0d9caff0aea2"
      },
      "execution_count": null,
      "outputs": [
        {
          "output_type": "stream",
          "name": "stdout",
          "text": [
            "[300, 366, 476.0, False, 'Data', 'data1']\n"
          ]
        }
      ]
    },
    {
      "cell_type": "code",
      "source": [
        "mylist1.insert(3,300)\n",
        "print(mylist1)"
      ],
      "metadata": {
        "colab": {
          "base_uri": "https://localhost:8080/"
        },
        "id": "lJwJArFeA_1O",
        "outputId": "f1254c4c-cade-4f74-935e-f72ab719c5e8"
      },
      "execution_count": null,
      "outputs": [
        {
          "output_type": "stream",
          "name": "stdout",
          "text": [
            "[300, 366, 476.0, 300, False, 'Data', 'data1']\n"
          ]
        }
      ]
    },
    {
      "cell_type": "code",
      "source": [
        "del mylist1[5]\n",
        "print(mylist1)"
      ],
      "metadata": {
        "colab": {
          "base_uri": "https://localhost:8080/"
        },
        "id": "dLuIYCohBK26",
        "outputId": "7c609e0c-06b4-493a-d416-c61f5b39d2a3"
      },
      "execution_count": null,
      "outputs": [
        {
          "output_type": "stream",
          "name": "stdout",
          "text": [
            "[300, 366, 476.0, 300, False, 'data1']\n"
          ]
        }
      ]
    },
    {
      "cell_type": "code",
      "source": [
        "mylist1.remove(\"data1\")\n",
        "print(mylist1)"
      ],
      "metadata": {
        "colab": {
          "base_uri": "https://localhost:8080/"
        },
        "id": "yWyUlEK0BypU",
        "outputId": "407f8629-a84f-4141-fd68-8da95206ed4e"
      },
      "execution_count": null,
      "outputs": [
        {
          "output_type": "stream",
          "name": "stdout",
          "text": [
            "[300, 366, 476.0, 300, False]\n"
          ]
        }
      ]
    },
    {
      "cell_type": "code",
      "source": [
        "_tuple_=([\"Dell\",\"Asus\",\"Hp\",27,387.87])\n",
        "print(_tuple_)"
      ],
      "metadata": {
        "colab": {
          "base_uri": "https://localhost:8080/"
        },
        "id": "HcZqeJVdB-jx",
        "outputId": "71a756f7-1ea7-4e90-85a2-ea576c815a8c"
      },
      "execution_count": null,
      "outputs": [
        {
          "output_type": "stream",
          "name": "stdout",
          "text": [
            "['Dell', 'Asus', 'Hp', 27, 387.87]\n"
          ]
        }
      ]
    },
    {
      "cell_type": "code",
      "source": [
        "del _tuple_\n",
        "print(_tuple_)"
      ],
      "metadata": {
        "colab": {
          "base_uri": "https://localhost:8080/",
          "height": 189
        },
        "id": "r518QrL2DE3B",
        "outputId": "3d984ead-0083-4468-f57e-f0d29be09bf1"
      },
      "execution_count": null,
      "outputs": [
        {
          "output_type": "error",
          "ename": "NameError",
          "evalue": "ignored",
          "traceback": [
            "\u001b[0;31m---------------------------------------------------------------------------\u001b[0m",
            "\u001b[0;31mNameError\u001b[0m                                 Traceback (most recent call last)",
            "\u001b[0;32m<ipython-input-26-d9dd4ea8a8cf>\u001b[0m in \u001b[0;36m<module>\u001b[0;34m\u001b[0m\n\u001b[1;32m      1\u001b[0m \u001b[0;32mdel\u001b[0m \u001b[0m_tuple_\u001b[0m\u001b[0;34m\u001b[0m\u001b[0;34m\u001b[0m\u001b[0m\n\u001b[0;32m----> 2\u001b[0;31m \u001b[0mprint\u001b[0m\u001b[0;34m(\u001b[0m\u001b[0m_tuple_\u001b[0m\u001b[0;34m)\u001b[0m\u001b[0;34m\u001b[0m\u001b[0;34m\u001b[0m\u001b[0m\n\u001b[0m",
            "\u001b[0;31mNameError\u001b[0m: name '_tuple_' is not defined"
          ]
        }
      ]
    },
    {
      "cell_type": "code",
      "source": [
        "Dict={\n",
        "    \"Username\" : \"Admin\" ,\n",
        "    \"Password\" : \"pass\"  ,\n",
        "    \"OS\"       : \"WIndows\" ,\n",
        "    \"RAM\"      : \"128GB\"\n",
        "       }"
      ],
      "metadata": {
        "id": "rF8tFYFnDNSK"
      },
      "execution_count": null,
      "outputs": []
    },
    {
      "cell_type": "code",
      "source": [
        "Dict"
      ],
      "metadata": {
        "colab": {
          "base_uri": "https://localhost:8080/"
        },
        "id": "Ebv6D71rEAPQ",
        "outputId": "f1d28484-98a7-48d8-cf31-30dddc6fcbd9"
      },
      "execution_count": null,
      "outputs": [
        {
          "output_type": "execute_result",
          "data": {
            "text/plain": [
              "{'Username': 'Admin', 'Password': 'pass', 'OS': 'WIndows', 'RAM': '128GB'}"
            ]
          },
          "metadata": {},
          "execution_count": 28
        }
      ]
    },
    {
      "cell_type": "code",
      "source": [
        "print(Dict[\"Username\"])"
      ],
      "metadata": {
        "colab": {
          "base_uri": "https://localhost:8080/"
        },
        "id": "9o1qdQg3EDkQ",
        "outputId": "51a25f0e-fbe5-49e8-94ed-b94a615d9bf1"
      },
      "execution_count": null,
      "outputs": [
        {
          "output_type": "stream",
          "name": "stdout",
          "text": [
            "Admin\n"
          ]
        }
      ]
    },
    {
      "cell_type": "code",
      "source": [
        "Dict[\"Model\"]= 32667\n",
        "print(Dict)"
      ],
      "metadata": {
        "colab": {
          "base_uri": "https://localhost:8080/"
        },
        "id": "ysfm2zaEEcO1",
        "outputId": "63bb0a96-b3b2-419b-f944-1bcd020edf08"
      },
      "execution_count": null,
      "outputs": [
        {
          "output_type": "stream",
          "name": "stdout",
          "text": [
            "{'Username': 'Admin', 'Password': 'pass', 'OS': 'WIndows', 'RAM': '128GB', 'Model': 32667}\n"
          ]
        }
      ]
    },
    {
      "cell_type": "code",
      "source": [
        "del Dict[\"OS\"]\n",
        "print(Dict)"
      ],
      "metadata": {
        "colab": {
          "base_uri": "https://localhost:8080/"
        },
        "id": "TShJdnZhEq6g",
        "outputId": "a78600d2-5e3e-4193-b2b8-29f757fc1b1d"
      },
      "execution_count": null,
      "outputs": [
        {
          "output_type": "stream",
          "name": "stdout",
          "text": [
            "{'Username': 'Admin', 'Password': 'pass', 'RAM': '128GB', 'Model': 32667}\n"
          ]
        }
      ]
    },
    {
      "cell_type": "code",
      "source": [
        "Dict.add[\"data1\":1234]\n",
        "print(Dict)"
      ],
      "metadata": {
        "colab": {
          "base_uri": "https://localhost:8080/",
          "height": 189
        },
        "id": "BB80OsBjFA6y",
        "outputId": "36617602-77bc-4e3c-e062-46b3a50f58e7"
      },
      "execution_count": null,
      "outputs": [
        {
          "output_type": "error",
          "ename": "AttributeError",
          "evalue": "ignored",
          "traceback": [
            "\u001b[0;31m---------------------------------------------------------------------------\u001b[0m",
            "\u001b[0;31mAttributeError\u001b[0m                            Traceback (most recent call last)",
            "\u001b[0;32m<ipython-input-36-381dc5e69c8b>\u001b[0m in \u001b[0;36m<module>\u001b[0;34m\u001b[0m\n\u001b[0;32m----> 1\u001b[0;31m \u001b[0mDict\u001b[0m\u001b[0;34m.\u001b[0m\u001b[0madd\u001b[0m\u001b[0;34m[\u001b[0m\u001b[0;34m\"data1\"\u001b[0m\u001b[0;34m:\u001b[0m\u001b[0;36m1234\u001b[0m\u001b[0;34m]\u001b[0m\u001b[0;34m\u001b[0m\u001b[0;34m\u001b[0m\u001b[0m\n\u001b[0m\u001b[1;32m      2\u001b[0m \u001b[0mprint\u001b[0m\u001b[0;34m(\u001b[0m\u001b[0mDict\u001b[0m\u001b[0;34m)\u001b[0m\u001b[0;34m\u001b[0m\u001b[0;34m\u001b[0m\u001b[0m\n",
            "\u001b[0;31mAttributeError\u001b[0m: 'dict' object has no attribute 'add'"
          ]
        }
      ]
    },
    {
      "cell_type": "code",
      "source": [
        "a = \"randomness\"\n",
        "print(a[0:6])"
      ],
      "metadata": {
        "colab": {
          "base_uri": "https://localhost:8080/"
        },
        "id": "SWbBGgESFRgK",
        "outputId": "63fd93ca-210e-4c01-8344-54fcbbe4880b"
      },
      "execution_count": null,
      "outputs": [
        {
          "output_type": "stream",
          "name": "stdout",
          "text": [
            "random\n"
          ]
        }
      ]
    },
    {
      "cell_type": "code",
      "source": [
        "print(a[3:])"
      ],
      "metadata": {
        "colab": {
          "base_uri": "https://localhost:8080/"
        },
        "id": "BaLyYtPxLnqo",
        "outputId": "1a5f39a2-0a97-4c90-d1c2-49e1f29ac9f5"
      },
      "execution_count": null,
      "outputs": [
        {
          "output_type": "stream",
          "name": "stdout",
          "text": [
            "domness\n"
          ]
        }
      ]
    },
    {
      "cell_type": "code",
      "source": [
        "print(a[-4: ])"
      ],
      "metadata": {
        "colab": {
          "base_uri": "https://localhost:8080/"
        },
        "id": "XJwXwHNULuuQ",
        "outputId": "53475c7f-bce1-4076-da4a-388b17770b5f"
      },
      "execution_count": null,
      "outputs": [
        {
          "output_type": "stream",
          "name": "stdout",
          "text": [
            "ness\n"
          ]
        }
      ]
    },
    {
      "cell_type": "code",
      "source": [
        "print(a[:])"
      ],
      "metadata": {
        "colab": {
          "base_uri": "https://localhost:8080/"
        },
        "id": "V7rJJKSdL33x",
        "outputId": "d09a4640-e289-4259-ff92-378477f75de5"
      },
      "execution_count": null,
      "outputs": [
        {
          "output_type": "stream",
          "name": "stdout",
          "text": [
            "randomness\n"
          ]
        }
      ]
    },
    {
      "cell_type": "code",
      "source": [
        "print(a[-9:-1])"
      ],
      "metadata": {
        "colab": {
          "base_uri": "https://localhost:8080/"
        },
        "id": "BQVlFQn1L9Qh",
        "outputId": "5d505eb3-6cb1-421d-a6d1-42441a43d2b5"
      },
      "execution_count": null,
      "outputs": [
        {
          "output_type": "stream",
          "name": "stdout",
          "text": [
            "andomnes\n"
          ]
        }
      ]
    },
    {
      "cell_type": "code",
      "source": [
        "print(a[-10:])"
      ],
      "metadata": {
        "colab": {
          "base_uri": "https://localhost:8080/"
        },
        "id": "z4cRKfFUMEXz",
        "outputId": "fb5684e6-bea6-414b-9236-cb978971e182"
      },
      "execution_count": null,
      "outputs": [
        {
          "output_type": "stream",
          "name": "stdout",
          "text": [
            "randomness\n"
          ]
        }
      ]
    },
    {
      "cell_type": "code",
      "source": [
        "b=\"python\"\n",
        "print(b[1:3:2])"
      ],
      "metadata": {
        "colab": {
          "base_uri": "https://localhost:8080/"
        },
        "id": "dZ_N8_4ZMJRS",
        "outputId": "6abeb28a-47b3-4341-85d0-bd2f6f2ab4b3"
      },
      "execution_count": null,
      "outputs": [
        {
          "output_type": "stream",
          "name": "stdout",
          "text": [
            "y\n"
          ]
        }
      ]
    },
    {
      "cell_type": "code",
      "source": [
        "print(b[0:5:1])"
      ],
      "metadata": {
        "colab": {
          "base_uri": "https://localhost:8080/"
        },
        "id": "PDiJ-YL7Mdq1",
        "outputId": "31bda34a-bf65-42c1-f9b0-62d2bdfdf454"
      },
      "execution_count": null,
      "outputs": [
        {
          "output_type": "stream",
          "name": "stdout",
          "text": [
            "pytho\n"
          ]
        }
      ]
    },
    {
      "cell_type": "code",
      "source": [
        "print(b[1:4:2])"
      ],
      "metadata": {
        "colab": {
          "base_uri": "https://localhost:8080/"
        },
        "id": "EweudT8lMkXm",
        "outputId": "8453b5c1-5e41-4879-d67d-8b2d966b1bb1"
      },
      "execution_count": null,
      "outputs": [
        {
          "output_type": "stream",
          "name": "stdout",
          "text": [
            "yh\n"
          ]
        }
      ]
    },
    {
      "cell_type": "code",
      "source": [
        "print(b[::-1])"
      ],
      "metadata": {
        "colab": {
          "base_uri": "https://localhost:8080/"
        },
        "id": "otDnzF4OMqBu",
        "outputId": "40086939-7e59-4e04-d95a-2e8a3bc5a6f0"
      },
      "execution_count": null,
      "outputs": [
        {
          "output_type": "stream",
          "name": "stdout",
          "text": [
            "nohtyp\n"
          ]
        }
      ]
    },
    {
      "cell_type": "code",
      "source": [
        "print(b[::-2])"
      ],
      "metadata": {
        "colab": {
          "base_uri": "https://localhost:8080/"
        },
        "id": "Ml16r09yMwpf",
        "outputId": "7cf9dcf6-cea6-4c3e-db74-26baef9e6fb1"
      },
      "execution_count": null,
      "outputs": [
        {
          "output_type": "stream",
          "name": "stdout",
          "text": [
            "nhy\n"
          ]
        }
      ]
    },
    {
      "cell_type": "code",
      "source": [],
      "metadata": {
        "id": "mpQon3Z_M2OI"
      },
      "execution_count": null,
      "outputs": []
    }
  ]
}